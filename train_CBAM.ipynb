{
 "cells": [
  {
   "cell_type": "code",
   "id": "4cf90677",
   "metadata": {
    "execution": {
     "iopub.execute_input": "2025-05-05T12:14:28.602524Z",
     "iopub.status.busy": "2025-05-05T12:14:28.602302Z",
     "iopub.status.idle": "2025-05-05T12:14:29.942229Z",
     "shell.execute_reply": "2025-05-05T12:14:29.941398Z"
    },
    "papermill": {
     "duration": 1.349652,
     "end_time": "2025-05-05T12:14:29.943615",
     "exception": false,
     "start_time": "2025-05-05T12:14:28.593963",
     "status": "completed"
    },
    "tags": [],
    "ExecuteTime": {
     "end_time": "2025-05-09T03:10:34.173855Z",
     "start_time": "2025-05-09T03:10:32.349308Z"
    }
   },
   "source": [
    "import ultralytics\n",
    "\n",
    "from ultralytics.data.split import autosplit"
   ],
   "outputs": [],
   "execution_count": 1
  },
  {
   "cell_type": "code",
   "id": "911db063",
   "metadata": {
    "_kg_hide-output": true,
    "execution": {
     "iopub.execute_input": "2025-05-05T12:14:29.981724Z",
     "iopub.status.busy": "2025-05-05T12:14:29.981490Z",
     "iopub.status.idle": "2025-05-05T15:36:08.900292Z",
     "shell.execute_reply": "2025-05-05T15:36:08.899484Z"
    },
    "papermill": {
     "duration": 12098.929824,
     "end_time": "2025-05-05T15:36:08.902673",
     "exception": false,
     "start_time": "2025-05-05T12:14:29.972849",
     "status": "completed"
    },
    "tags": [],
    "ExecuteTime": {
     "end_time": "2025-05-09T03:12:37.597873Z",
     "start_time": "2025-05-09T03:10:34.189511Z"
    }
   },
   "source": [
    "\n",
    "autosplit('data/datasets/waste_classification/images', weights=(0.8, 0.2, 0),\n",
    "              annotated_only=True)\n",
    "\n",
    "# 配置参数\n",
    "config_path = 'cfg/train.yaml'  # 训练配置文件路径\n",
    "data_yaml = 'data/datasets/waste_classification/waste_classification.yaml'  # 数据配置文件路径\n",
    "pretrained_weights = 'weights/yolov8n_pretrained.pt'  # 预训练权重路径\n",
    "\n",
    "# 加载模型\n",
    "model = ultralytics.YOLO('YOLO/ultralytics/cfg/models/v8/yolov8-CBAM_backbone_head.yaml')\n",
    "\n",
    "# 开始训练\n",
    "model.train(\n",
    "            cfg='cfg/train.yaml',\n",
    "            data=data_yaml,\n",
    "            name=\"train_EMA\"\n",
    "        )  "
   ],
   "outputs": [
    {
     "name": "stdout",
     "output_type": "stream",
     "text": [
      "Autosplitting images from data\\datasets\\waste_classification\\images, using *.txt labeled images only\n"
     ]
    },
    {
     "name": "stderr",
     "output_type": "stream",
     "text": [
      "100%|██████████| 14964/14964 [00:02<00:00, 5246.95it/s]"
     ]
    },
    {
     "name": "stdout",
     "output_type": "stream",
     "text": [
      "WARNING no model scale passed. Assuming scale='n'.\n"
     ]
    },
    {
     "name": "stderr",
     "output_type": "stream",
     "text": [
      "\n"
     ]
    },
    {
     "name": "stdout",
     "output_type": "stream",
     "text": [
      "WARNING 'crop_fraction' is deprecated and will be removed in in the future.\n",
      "Ultralytics 8.3.124  Python-3.12.10 torch-2.7.0+cu126 CUDA:0 (NVIDIA GeForce RTX 4060 Laptop GPU, 8188MiB)\n",
      "\u001B[34m\u001B[1mengine\\trainer: \u001B[0mtask=detect, mode=train, model=YOLO/ultralytics/cfg/models/v8/yolov8-CBAM_backbone_head.yaml, data=data/datasets/waste_classification/waste_classification.yaml, epochs=100, time=None, patience=100, batch=32, imgsz=640, save=True, save_period=10, cache=False, device=0, workers=8, project=None, name=train_EMA4, exist_ok=False, pretrained=True, optimizer=auto, verbose=True, seed=0, deterministic=True, single_cls=False, rect=False, cos_lr=False, close_mosaic=10, resume=False, amp=True, fraction=1.0, profile=False, freeze=None, multi_scale=False, overlap_mask=True, mask_ratio=4, dropout=0.0, val=False, split=val, save_json=False, conf=None, iou=0.7, max_det=300, half=False, dnn=False, plots=True, source=None, vid_stride=1, stream_buffer=False, visualize=False, augment=False, agnostic_nms=False, classes=None, retina_masks=False, embed=None, show=False, save_frames=False, save_txt=False, save_conf=False, save_crop=False, show_labels=True, show_conf=True, show_boxes=True, line_width=None, format=torchscript, keras=False, optimize=False, int8=False, dynamic=False, simplify=True, opset=None, workspace=None, nms=False, lr0=0.01, lrf=0.01, momentum=0.937, weight_decay=0.0005, warmup_epochs=3.0, warmup_momentum=0.8, warmup_bias_lr=0.1, box=7.5, cls=0.5, dfl=1.5, pose=12.0, kobj=1.0, nbs=64, hsv_h=0.015, hsv_s=0.7, hsv_v=0.4, degrees=0.0, translate=0.1, scale=0.5, shear=0.0, perspective=0.0, flipud=0.0, fliplr=0.5, bgr=0.0, mosaic=1.0, mixup=0.0, cutmix=0.0, copy_paste=0.0, copy_paste_mode=flip, auto_augment=randaugment, erasing=0.4, cfg=cfg/train.yaml, tracker=botsort.yaml, save_dir=D:\\code\\python\\Graduation_project\\runs\\detect\\train_EMA4\n",
      "Overriding model.yaml nc=80 with nc=4\n",
      "WARNING no model scale passed. Assuming scale='n'.\n",
      "\n",
      "                   from  n    params  module                                       arguments                     \n",
      "  0                  -1  1       464  ultralytics.nn.modules.conv.Conv             [3, 16, 3, 2]                 \n",
      "  1                  -1  1      4672  ultralytics.nn.modules.conv.Conv             [16, 32, 3, 2]                \n",
      "  2                  -1  1      7360  ultralytics.nn.modules.block.C2f             [32, 32, 1, True]             \n",
      "  3                  -1  1      1154  ultralytics.nn.modules.conv.CBAM             [32]                          \n",
      "  4                  -1  1     18560  ultralytics.nn.modules.conv.Conv             [32, 64, 3, 2]                \n",
      "  5                  -1  2     49664  ultralytics.nn.modules.block.C2f             [64, 64, 2, True]             \n",
      "  6                  -1  1      4258  ultralytics.nn.modules.conv.CBAM             [64]                          \n",
      "  7                  -1  1     73984  ultralytics.nn.modules.conv.Conv             [64, 128, 3, 2]               \n",
      "  8                  -1  2    197632  ultralytics.nn.modules.block.C2f             [128, 128, 2, True]           \n",
      "  9                  -1  1    295424  ultralytics.nn.modules.conv.Conv             [128, 256, 3, 2]              \n",
      " 10                  -1  1    460288  ultralytics.nn.modules.block.C2f             [256, 256, 1, True]           \n",
      " 11                  -1  1     65890  ultralytics.nn.modules.conv.CBAM             [256]                         \n",
      " 12                  -1  1    164608  ultralytics.nn.modules.block.SPPF            [256, 256, 5]                 \n",
      " 13                  -1  1         0  torch.nn.modules.upsampling.Upsample         [None, 2, 'nearest']          \n",
      " 14             [-1, 7]  1         0  ultralytics.nn.modules.conv.Concat           [1]                           \n",
      " 15                  -1  1    148224  ultralytics.nn.modules.block.C2f             [384, 128, 1]                 \n",
      " 16                  -1  1     16610  ultralytics.nn.modules.conv.CBAM             [128]                         \n",
      " 17                  -1  1         0  torch.nn.modules.upsampling.Upsample         [None, 2, 'nearest']          \n",
      " 18             [-1, 4]  1         0  ultralytics.nn.modules.conv.Concat           [1]                           \n",
      " 19                  -1  1     37248  ultralytics.nn.modules.block.C2f             [192, 64, 1]                  \n",
      " 20                  -1  1      4258  ultralytics.nn.modules.conv.CBAM             [64]                          \n",
      " 21                  -1  1     36992  ultralytics.nn.modules.conv.Conv             [64, 64, 3, 2]                \n",
      " 22            [-1, 15]  1         0  ultralytics.nn.modules.conv.Concat           [1]                           \n",
      " 23                  -1  1    123648  ultralytics.nn.modules.block.C2f             [192, 128, 1]                 \n",
      " 24                  -1  1    147712  ultralytics.nn.modules.conv.Conv             [128, 128, 3, 2]              \n",
      " 25            [-1, 12]  1         0  ultralytics.nn.modules.conv.Concat           [1]                           \n",
      " 26                  -1  1    493056  ultralytics.nn.modules.block.C2f             [384, 256, 1]                 \n",
      " 27        [18, 22, 25]  1   2893276  ultralytics.nn.modules.head.Detect           [4, [192, 192, 384]]          \n",
      "YOLOv8-CBAM_backbone_head summary: 154 layers, 5,244,982 parameters, 5,244,966 gradients, 19.4 GFLOPs\n",
      "\n",
      "Freezing layer 'model.27.dfl.conv.weight'\n",
      "\u001B[34m\u001B[1mAMP: \u001B[0mrunning Automatic Mixed Precision (AMP) checks...\n",
      "\u001B[34m\u001B[1mAMP: \u001B[0mchecks passed \n",
      "\u001B[34m\u001B[1mtrain: \u001B[0mFast image access  (ping: 0.00.0 ms, read: 349.8285.8 MB/s, size: 24.3 KB)\n"
     ]
    },
    {
     "name": "stderr",
     "output_type": "stream",
     "text": [
      "\u001B[34m\u001B[1mtrain: \u001B[0mScanning D:\\code\\python\\Graduation_project\\data\\datasets\\waste_classification\\labels.cache... 11988 images, 0 backgrounds, 0 corrupt: 100%|██████████| 11988/11988 [00:00<?, ?it/s]\n"
     ]
    },
    {
     "name": "stdout",
     "output_type": "stream",
     "text": [
      "\u001B[34m\u001B[1mval: \u001B[0mFast image access  (ping: 0.00.0 ms, read: 9.78.2 MB/s, size: 48.1 KB)\n"
     ]
    },
    {
     "name": "stderr",
     "output_type": "stream",
     "text": [
      "\u001B[34m\u001B[1mval: \u001B[0mScanning D:\\code\\python\\Graduation_project\\data\\datasets\\waste_classification\\labels... 2976 images, 0 backgrounds, 0 corrupt: 100%|██████████| 2976/2976 [00:03<00:00, 815.02it/s] "
     ]
    },
    {
     "name": "stdout",
     "output_type": "stream",
     "text": [
      "\u001B[34m\u001B[1mval: \u001B[0mNew cache created: D:\\code\\python\\Graduation_project\\data\\datasets\\waste_classification\\labels.cache\n"
     ]
    },
    {
     "name": "stderr",
     "output_type": "stream",
     "text": [
      "\n"
     ]
    },
    {
     "name": "stdout",
     "output_type": "stream",
     "text": [
      "Plotting labels to D:\\code\\python\\Graduation_project\\runs\\detect\\train_EMA4\\labels.jpg... \n",
      "\u001B[34m\u001B[1moptimizer:\u001B[0m 'optimizer=auto' found, ignoring 'lr0=0.01' and 'momentum=0.937' and determining best 'optimizer', 'lr0' and 'momentum' automatically... \n",
      "\u001B[34m\u001B[1moptimizer:\u001B[0m SGD(lr=0.01, momentum=0.9) with parameter groups 57 weight(decay=0.0), 74 weight(decay=0.0005), 68 bias(decay=0.0)\n",
      "Image sizes 640 train, 640 val\n",
      "Using 8 dataloader workers\n",
      "Logging results to \u001B[1mD:\\code\\python\\Graduation_project\\runs\\detect\\train_EMA4\u001B[0m\n",
      "Starting training for 100 epochs...\n",
      "\n",
      "      Epoch    GPU_mem   box_loss   cls_loss   dfl_loss  Instances       Size\n"
     ]
    },
    {
     "name": "stderr",
     "output_type": "stream",
     "text": [
      "      1/100      5.37G       3.17      4.055      4.232        136        640:  18%|█▊        | 69/375 [00:56<04:08,  1.23it/s]\n"
     ]
    },
    {
     "ename": "KeyboardInterrupt",
     "evalue": "",
     "output_type": "error",
     "traceback": [
      "\u001B[31m---------------------------------------------------------------------------\u001B[39m",
      "\u001B[31mKeyboardInterrupt\u001B[39m                         Traceback (most recent call last)",
      "\u001B[36mCell\u001B[39m\u001B[36m \u001B[39m\u001B[32mIn[2]\u001B[39m\u001B[32m, line 13\u001B[39m\n\u001B[32m     10\u001B[39m model = ultralytics.YOLO(\u001B[33m'\u001B[39m\u001B[33mYOLO/ultralytics/cfg/models/v8/yolov8-CBAM_backbone_head.yaml\u001B[39m\u001B[33m'\u001B[39m)\n\u001B[32m     12\u001B[39m \u001B[38;5;66;03m# 开始训练\u001B[39;00m\n\u001B[32m---> \u001B[39m\u001B[32m13\u001B[39m \u001B[43mmodel\u001B[49m\u001B[43m.\u001B[49m\u001B[43mtrain\u001B[49m\u001B[43m(\u001B[49m\n\u001B[32m     14\u001B[39m \u001B[43m            \u001B[49m\u001B[43mcfg\u001B[49m\u001B[43m=\u001B[49m\u001B[33;43m'\u001B[39;49m\u001B[33;43mcfg/train.yaml\u001B[39;49m\u001B[33;43m'\u001B[39;49m\u001B[43m,\u001B[49m\n\u001B[32m     15\u001B[39m \u001B[43m            \u001B[49m\u001B[43mdata\u001B[49m\u001B[43m=\u001B[49m\u001B[43mdata_yaml\u001B[49m\u001B[43m,\u001B[49m\n\u001B[32m     16\u001B[39m \u001B[43m            \u001B[49m\u001B[43mname\u001B[49m\u001B[43m=\u001B[49m\u001B[33;43m\"\u001B[39;49m\u001B[33;43mtrain_EMA\u001B[39;49m\u001B[33;43m\"\u001B[39;49m\n\u001B[32m     17\u001B[39m \u001B[43m        \u001B[49m\u001B[43m)\u001B[49m  \n",
      "\u001B[36mFile \u001B[39m\u001B[32mD:\\code\\python\\Graduation_project\\YOLO\\ultralytics\\engine\\model.py:793\u001B[39m, in \u001B[36mModel.train\u001B[39m\u001B[34m(self, trainer, **kwargs)\u001B[39m\n\u001B[32m    790\u001B[39m     \u001B[38;5;28mself\u001B[39m.model = \u001B[38;5;28mself\u001B[39m.trainer.model\n\u001B[32m    792\u001B[39m \u001B[38;5;28mself\u001B[39m.trainer.hub_session = \u001B[38;5;28mself\u001B[39m.session  \u001B[38;5;66;03m# attach optional HUB session\u001B[39;00m\n\u001B[32m--> \u001B[39m\u001B[32m793\u001B[39m \u001B[38;5;28;43mself\u001B[39;49m\u001B[43m.\u001B[49m\u001B[43mtrainer\u001B[49m\u001B[43m.\u001B[49m\u001B[43mtrain\u001B[49m\u001B[43m(\u001B[49m\u001B[43m)\u001B[49m\n\u001B[32m    794\u001B[39m \u001B[38;5;66;03m# Update model and cfg after training\u001B[39;00m\n\u001B[32m    795\u001B[39m \u001B[38;5;28;01mif\u001B[39;00m RANK \u001B[38;5;129;01min\u001B[39;00m {-\u001B[32m1\u001B[39m, \u001B[32m0\u001B[39m}:\n",
      "\u001B[36mFile \u001B[39m\u001B[32mD:\\code\\python\\Graduation_project\\YOLO\\ultralytics\\engine\\trainer.py:210\u001B[39m, in \u001B[36mBaseTrainer.train\u001B[39m\u001B[34m(self)\u001B[39m\n\u001B[32m    207\u001B[39m         ddp_cleanup(\u001B[38;5;28mself\u001B[39m, \u001B[38;5;28mstr\u001B[39m(file))\n\u001B[32m    209\u001B[39m \u001B[38;5;28;01melse\u001B[39;00m:\n\u001B[32m--> \u001B[39m\u001B[32m210\u001B[39m     \u001B[38;5;28;43mself\u001B[39;49m\u001B[43m.\u001B[49m\u001B[43m_do_train\u001B[49m\u001B[43m(\u001B[49m\u001B[43mworld_size\u001B[49m\u001B[43m)\u001B[49m\n",
      "\u001B[36mFile \u001B[39m\u001B[32mD:\\code\\python\\Graduation_project\\YOLO\\ultralytics\\engine\\trainer.py:384\u001B[39m, in \u001B[36mBaseTrainer._do_train\u001B[39m\u001B[34m(self, world_size)\u001B[39m\n\u001B[32m    382\u001B[39m \u001B[38;5;28;01mwith\u001B[39;00m autocast(\u001B[38;5;28mself\u001B[39m.amp):\n\u001B[32m    383\u001B[39m     batch = \u001B[38;5;28mself\u001B[39m.preprocess_batch(batch)\n\u001B[32m--> \u001B[39m\u001B[32m384\u001B[39m     loss, \u001B[38;5;28mself\u001B[39m.loss_items = \u001B[38;5;28;43mself\u001B[39;49m\u001B[43m.\u001B[49m\u001B[43mmodel\u001B[49m\u001B[43m(\u001B[49m\u001B[43mbatch\u001B[49m\u001B[43m)\u001B[49m\n\u001B[32m    385\u001B[39m     \u001B[38;5;28mself\u001B[39m.loss = loss.sum()\n\u001B[32m    386\u001B[39m     \u001B[38;5;28;01mif\u001B[39;00m RANK != -\u001B[32m1\u001B[39m:\n",
      "\u001B[36mFile \u001B[39m\u001B[32m~\\AppData\\Roaming\\Python\\Python312\\site-packages\\torch\\nn\\modules\\module.py:1751\u001B[39m, in \u001B[36mModule._wrapped_call_impl\u001B[39m\u001B[34m(self, *args, **kwargs)\u001B[39m\n\u001B[32m   1749\u001B[39m     \u001B[38;5;28;01mreturn\u001B[39;00m \u001B[38;5;28mself\u001B[39m._compiled_call_impl(*args, **kwargs)  \u001B[38;5;66;03m# type: ignore[misc]\u001B[39;00m\n\u001B[32m   1750\u001B[39m \u001B[38;5;28;01melse\u001B[39;00m:\n\u001B[32m-> \u001B[39m\u001B[32m1751\u001B[39m     \u001B[38;5;28;01mreturn\u001B[39;00m \u001B[38;5;28;43mself\u001B[39;49m\u001B[43m.\u001B[49m\u001B[43m_call_impl\u001B[49m\u001B[43m(\u001B[49m\u001B[43m*\u001B[49m\u001B[43margs\u001B[49m\u001B[43m,\u001B[49m\u001B[43m \u001B[49m\u001B[43m*\u001B[49m\u001B[43m*\u001B[49m\u001B[43mkwargs\u001B[49m\u001B[43m)\u001B[49m\n",
      "\u001B[36mFile \u001B[39m\u001B[32m~\\AppData\\Roaming\\Python\\Python312\\site-packages\\torch\\nn\\modules\\module.py:1762\u001B[39m, in \u001B[36mModule._call_impl\u001B[39m\u001B[34m(self, *args, **kwargs)\u001B[39m\n\u001B[32m   1757\u001B[39m \u001B[38;5;66;03m# If we don't have any hooks, we want to skip the rest of the logic in\u001B[39;00m\n\u001B[32m   1758\u001B[39m \u001B[38;5;66;03m# this function, and just call forward.\u001B[39;00m\n\u001B[32m   1759\u001B[39m \u001B[38;5;28;01mif\u001B[39;00m \u001B[38;5;129;01mnot\u001B[39;00m (\u001B[38;5;28mself\u001B[39m._backward_hooks \u001B[38;5;129;01mor\u001B[39;00m \u001B[38;5;28mself\u001B[39m._backward_pre_hooks \u001B[38;5;129;01mor\u001B[39;00m \u001B[38;5;28mself\u001B[39m._forward_hooks \u001B[38;5;129;01mor\u001B[39;00m \u001B[38;5;28mself\u001B[39m._forward_pre_hooks\n\u001B[32m   1760\u001B[39m         \u001B[38;5;129;01mor\u001B[39;00m _global_backward_pre_hooks \u001B[38;5;129;01mor\u001B[39;00m _global_backward_hooks\n\u001B[32m   1761\u001B[39m         \u001B[38;5;129;01mor\u001B[39;00m _global_forward_hooks \u001B[38;5;129;01mor\u001B[39;00m _global_forward_pre_hooks):\n\u001B[32m-> \u001B[39m\u001B[32m1762\u001B[39m     \u001B[38;5;28;01mreturn\u001B[39;00m \u001B[43mforward_call\u001B[49m\u001B[43m(\u001B[49m\u001B[43m*\u001B[49m\u001B[43margs\u001B[49m\u001B[43m,\u001B[49m\u001B[43m \u001B[49m\u001B[43m*\u001B[49m\u001B[43m*\u001B[49m\u001B[43mkwargs\u001B[49m\u001B[43m)\u001B[49m\n\u001B[32m   1764\u001B[39m result = \u001B[38;5;28;01mNone\u001B[39;00m\n\u001B[32m   1765\u001B[39m called_always_called_hooks = \u001B[38;5;28mset\u001B[39m()\n",
      "\u001B[36mFile \u001B[39m\u001B[32mD:\\code\\python\\Graduation_project\\YOLO\\ultralytics\\nn\\tasks.py:114\u001B[39m, in \u001B[36mBaseModel.forward\u001B[39m\u001B[34m(self, x, *args, **kwargs)\u001B[39m\n\u001B[32m    100\u001B[39m \u001B[38;5;250m\u001B[39m\u001B[33;03m\"\"\"\u001B[39;00m\n\u001B[32m    101\u001B[39m \u001B[33;03mPerform forward pass of the model for either training or inference.\u001B[39;00m\n\u001B[32m    102\u001B[39m \n\u001B[32m   (...)\u001B[39m\u001B[32m    111\u001B[39m \u001B[33;03m    (torch.Tensor): Loss if x is a dict (training), or network predictions (inference).\u001B[39;00m\n\u001B[32m    112\u001B[39m \u001B[33;03m\"\"\"\u001B[39;00m\n\u001B[32m    113\u001B[39m \u001B[38;5;28;01mif\u001B[39;00m \u001B[38;5;28misinstance\u001B[39m(x, \u001B[38;5;28mdict\u001B[39m):  \u001B[38;5;66;03m# for cases of training and validating while training.\u001B[39;00m\n\u001B[32m--> \u001B[39m\u001B[32m114\u001B[39m     \u001B[38;5;28;01mreturn\u001B[39;00m \u001B[38;5;28;43mself\u001B[39;49m\u001B[43m.\u001B[49m\u001B[43mloss\u001B[49m\u001B[43m(\u001B[49m\u001B[43mx\u001B[49m\u001B[43m,\u001B[49m\u001B[43m \u001B[49m\u001B[43m*\u001B[49m\u001B[43margs\u001B[49m\u001B[43m,\u001B[49m\u001B[43m \u001B[49m\u001B[43m*\u001B[49m\u001B[43m*\u001B[49m\u001B[43mkwargs\u001B[49m\u001B[43m)\u001B[49m\n\u001B[32m    115\u001B[39m \u001B[38;5;28;01mreturn\u001B[39;00m \u001B[38;5;28mself\u001B[39m.predict(x, *args, **kwargs)\n",
      "\u001B[36mFile \u001B[39m\u001B[32mD:\\code\\python\\Graduation_project\\YOLO\\ultralytics\\nn\\tasks.py:301\u001B[39m, in \u001B[36mBaseModel.loss\u001B[39m\u001B[34m(self, batch, preds)\u001B[39m\n\u001B[32m    298\u001B[39m     \u001B[38;5;28mself\u001B[39m.criterion = \u001B[38;5;28mself\u001B[39m.init_criterion()\n\u001B[32m    300\u001B[39m preds = \u001B[38;5;28mself\u001B[39m.forward(batch[\u001B[33m\"\u001B[39m\u001B[33mimg\u001B[39m\u001B[33m\"\u001B[39m]) \u001B[38;5;28;01mif\u001B[39;00m preds \u001B[38;5;129;01mis\u001B[39;00m \u001B[38;5;28;01mNone\u001B[39;00m \u001B[38;5;28;01melse\u001B[39;00m preds\n\u001B[32m--> \u001B[39m\u001B[32m301\u001B[39m \u001B[38;5;28;01mreturn\u001B[39;00m \u001B[38;5;28;43mself\u001B[39;49m\u001B[43m.\u001B[49m\u001B[43mcriterion\u001B[49m\u001B[43m(\u001B[49m\u001B[43mpreds\u001B[49m\u001B[43m,\u001B[49m\u001B[43m \u001B[49m\u001B[43mbatch\u001B[49m\u001B[43m)\u001B[49m\n",
      "\u001B[36mFile \u001B[39m\u001B[32mD:\\code\\python\\Graduation_project\\YOLO\\ultralytics\\utils\\loss.py:227\u001B[39m, in \u001B[36mv8DetectionLoss.__call__\u001B[39m\u001B[34m(self, preds, batch)\u001B[39m\n\u001B[32m    225\u001B[39m dtype = pred_scores.dtype\n\u001B[32m    226\u001B[39m batch_size = pred_scores.shape[\u001B[32m0\u001B[39m]\n\u001B[32m--> \u001B[39m\u001B[32m227\u001B[39m imgsz = \u001B[43mtorch\u001B[49m\u001B[43m.\u001B[49m\u001B[43mtensor\u001B[49m\u001B[43m(\u001B[49m\u001B[43mfeats\u001B[49m\u001B[43m[\u001B[49m\u001B[32;43m0\u001B[39;49m\u001B[43m]\u001B[49m\u001B[43m.\u001B[49m\u001B[43mshape\u001B[49m\u001B[43m[\u001B[49m\u001B[32;43m2\u001B[39;49m\u001B[43m:\u001B[49m\u001B[43m]\u001B[49m\u001B[43m,\u001B[49m\u001B[43m \u001B[49m\u001B[43mdevice\u001B[49m\u001B[43m=\u001B[49m\u001B[38;5;28;43mself\u001B[39;49m\u001B[43m.\u001B[49m\u001B[43mdevice\u001B[49m\u001B[43m,\u001B[49m\u001B[43m \u001B[49m\u001B[43mdtype\u001B[49m\u001B[43m=\u001B[49m\u001B[43mdtype\u001B[49m\u001B[43m)\u001B[49m * \u001B[38;5;28mself\u001B[39m.stride[\u001B[32m0\u001B[39m]  \u001B[38;5;66;03m# image size (h,w)\u001B[39;00m\n\u001B[32m    228\u001B[39m anchor_points, stride_tensor = make_anchors(feats, \u001B[38;5;28mself\u001B[39m.stride, \u001B[32m0.5\u001B[39m)\n\u001B[32m    230\u001B[39m \u001B[38;5;66;03m# Targets\u001B[39;00m\n",
      "\u001B[31mKeyboardInterrupt\u001B[39m: "
     ]
    }
   ],
   "execution_count": 2
  },
  {
   "cell_type": "markdown",
   "id": "99a5f3bc",
   "metadata": {
    "papermill": {
     "duration": 3.2994,
     "end_time": "2025-05-05T15:36:15.628773",
     "exception": false,
     "start_time": "2025-05-05T15:36:12.329373",
     "status": "completed"
    },
    "tags": []
   },
   "source": [
    "阶段\t训练策略\t学习率设置\t目的\n",
    "阶段 1\t冻结骨干\t仅优化注意力 + 检测头\t让新模块快速适应任务\n",
    "阶段 2\t解冻骨干\t分层学习率（骨干低，注意力中，检测头高）\t微调整个模型\n",
    "监控\t检查梯度\t调整学习率乘数\t确保注意力模块有效学习\n"
   ]
  },
  {
   "cell_type": "code",
   "id": "01afc8f3",
   "metadata": {
    "execution": {
     "iopub.execute_input": "2025-05-05T15:36:22.303063Z",
     "iopub.status.busy": "2025-05-05T15:36:22.302307Z",
     "iopub.status.idle": "2025-05-05T15:36:22.306071Z",
     "shell.execute_reply": "2025-05-05T15:36:22.305521Z"
    },
    "papermill": {
     "duration": 3.261708,
     "end_time": "2025-05-05T15:36:22.307247",
     "exception": false,
     "start_time": "2025-05-05T15:36:19.045539",
     "status": "completed"
    },
    "tags": []
   },
   "source": [
    "# !git pull https://github.com/HEIHEILIN1/ws_model.git"
   ],
   "outputs": [],
   "execution_count": null
  }
 ],
 "metadata": {
  "kaggle": {
   "accelerator": "gpu",
   "dataSources": [
    {
     "datasetId": 7325543,
     "isSourceIdPinned": true,
     "sourceId": 11672812,
     "sourceType": "datasetVersion"
    },
    {
     "datasetId": 7334202,
     "sourceId": 11685359,
     "sourceType": "datasetVersion"
    }
   ],
   "dockerImageVersionId": 31011,
   "isGpuEnabled": true,
   "isInternetEnabled": true,
   "language": "python",
   "sourceType": "notebook"
  },
  "kernelspec": {
   "display_name": "Python 3",
   "language": "python",
   "name": "python3"
  },
  "language_info": {
   "codemirror_mode": {
    "name": "ipython",
    "version": 3
   },
   "file_extension": ".py",
   "mimetype": "text/x-python",
   "name": "python",
   "nbconvert_exporter": "python",
   "pygments_lexer": "ipython3",
   "version": "3.11.11"
  },
  "papermill": {
   "default_parameters": {},
   "duration": 12179.327787,
   "end_time": "2025-05-05T15:36:29.090296",
   "environment_variables": {},
   "exception": null,
   "input_path": "__notebook__.ipynb",
   "output_path": "__notebook__.ipynb",
   "parameters": {},
   "start_time": "2025-05-05T12:13:29.762509",
   "version": "2.6.0"
  }
 },
 "nbformat": 4,
 "nbformat_minor": 5
}
