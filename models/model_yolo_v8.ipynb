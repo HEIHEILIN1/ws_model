{
 "cells": [
  {
   "cell_type": "code",
   "id": "initial_id",
   "metadata": {
    "collapsed": true,
    "ExecuteTime": {
     "end_time": "2025-03-28T09:52:16.315424Z",
     "start_time": "2025-03-28T09:52:09.700111Z"
    }
   },
   "source": [
    "import torch\n",
    "import ultralytics\n",
    "from torch import nn"
   ],
   "outputs": [],
   "execution_count": 1
  },
  {
   "metadata": {
    "ExecuteTime": {
     "end_time": "2025-03-28T09:52:18.276474Z",
     "start_time": "2025-03-28T09:52:18.209429Z"
    }
   },
   "cell_type": "code",
   "source": [
    "yolo = ultralytics.YOLO()\n",
    "X=torch.randn(1,1,13,13)\n",
    "layer=nn.MaxPool2d(kernel_size=5,stride=1,padding=2)\n",
    "print(layer(X).shape)"
   ],
   "id": "f84a1ac921f42402",
   "outputs": [
    {
     "name": "stdout",
     "output_type": "stream",
     "text": [
      "torch.Size([1, 1, 13, 13])\n"
     ]
    }
   ],
   "execution_count": 2
  }
 ],
 "metadata": {
  "kernelspec": {
   "display_name": "Python 3",
   "language": "python",
   "name": "python3"
  },
  "language_info": {
   "codemirror_mode": {
    "name": "ipython",
    "version": 2
   },
   "file_extension": ".py",
   "mimetype": "text/x-python",
   "name": "python",
   "nbconvert_exporter": "python",
   "pygments_lexer": "ipython2",
   "version": "2.7.6"
  }
 },
 "nbformat": 4,
 "nbformat_minor": 5
}
