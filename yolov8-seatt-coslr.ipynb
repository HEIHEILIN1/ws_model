{
 "metadata": {
  "kernelspec": {
   "language": "python",
   "display_name": "Python 3",
   "name": "python3"
  },
  "language_info": {
   "name": "python",
   "version": "3.11.11",
   "mimetype": "text/x-python",
   "codemirror_mode": {
    "name": "ipython",
    "version": 3
   },
   "pygments_lexer": "ipython3",
   "nbconvert_exporter": "python",
   "file_extension": ".py"
  },
  "kaggle": {
   "accelerator": "gpu",
   "dataSources": [
    {
     "sourceId": 11672812,
     "sourceType": "datasetVersion",
     "datasetId": 7325543,
     "isSourceIdPinned": true
    }
   ],
   "dockerImageVersionId": 31011,
   "isInternetEnabled": true,
   "language": "python",
   "sourceType": "notebook",
   "isGpuEnabled": true
  }
 },
 "nbformat_minor": 4,
 "nbformat": 4,
 "cells": [
  {
   "cell_type": "code",
   "source": [
    "# import os\n",
    "# import shutil\n",
    "# # # # 指定要删除的目录路径\n",
    "# directory_path = '/kaggle/working/ws_model'\n",
    "#\n",
    "# # 检查目录是否存在\n",
    "# if os.path.exists(directory_path) and os.path.isdir(directory_path):\n",
    "#     try:\n",
    "#         # 递归删除非空目录\n",
    "#         shutil.rmtree(directory_path)\n",
    "#         print(f'{directory_path} 已成功删除。')\n",
    "#     except OSError as e:\n",
    "#         print(f'删除 {directory_path} 时出错: {e}')\n",
    "# else:\n",
    "#     print(f'{directory_path} 不存在或者不是目录。')"
   ],
   "metadata": {
    "trusted": true
   },
   "outputs": [],
   "execution_count": null
  },
  {
   "cell_type": "code",
   "source": [
    "# ! git init\n",
    "# ! git clone https://github.com/HEIHEILIN1/ws_model.git\n"
   ],
   "metadata": {
    "_uuid": "8f2839f25d086af736a60e9eeb907d3b93b6e0e5",
    "_cell_guid": "b1076dfc-b9ad-4769-8c92-a6c4dae69d19",
    "trusted": true
   },
   "outputs": [],
   "execution_count": null
  },
  {
   "cell_type": "code",
   "source": [
    "# import sys\n",
    "# import torch.optim as optim\n",
    "# from tqdm import tqdm\n",
    "import torch.optim as optim\n",
    "#\n",
    "# sys.path.append(\"/kaggle/input/yolo-lib/YOLO\")\n",
    "#\n",
    "# print(sys.executable)  # 查看 Python 解释器路径\n",
    "# print(sys.path)       # 查看模块搜索路径"
   ],
   "metadata": {
    "trusted": true
   },
   "outputs": [],
   "execution_count": null
  },
  {
   "cell_type": "code",
   "source": [
    "# import os\n",
    "# yolo_path = \"/kaggle/input/yolo-lib/YOLO/ultralytics/cfg/models/v8\"\n",
    "# print(os.listdir(yolo_path))  # 查看YOLO目录内容\n",
    "# # 检查关键文件是否存在\n",
    "# print(os.path.exists(f\"{yolo_path}/ultralytics/__init__.py\"))  # 必须为True"
   ],
   "metadata": {
    "trusted": true
   },
   "outputs": [],
   "execution_count": null
  },
  {
   "cell_type": "code",
   "source": "import ultralytics\n\nfrom ultralytics.data.split import autosplit\n\nfrom ultralytics.utils.loss import v8DetectionLoss",
   "metadata": {
    "trusted": true
   },
   "outputs": [],
   "execution_count": null
  },
  {
   "cell_type": "code",
   "source": [
    "# input_dir=\"/kaggle/working/ws_model/\"\n",
    "# k_fold_result_dir=\"/kaggle/working/ws_model/data/datasets/waste_classification\"\n",
    "# working_dir='/kaggle/working/ws_model/runs/detect'"
   ],
   "metadata": {
    "trusted": true
   },
   "outputs": [],
   "execution_count": null
  },
  {
   "cell_type": "code",
   "source": "def configure_optimizer(model, lr=1e-4, lr_multiplier=10, weight_decay=0.05):\n    \"\"\"配置分层学习率优化器\"\"\"\n    pretrained_params = []  # 骨干网络\n    attention_params = []   # SEAttention模块\n    head_params = []        # 检测头\n    \n    for name, param in model.named_parameters():\n        if \"SEAttention\" in name:\n            attention_params.append(param)\n        elif \"backbone\" in name:\n            pretrained_params.append(param)\n        else:\n            head_params.append(param)\n    \n    return optim.AdamW([\n        {\"params\": pretrained_params, \"lr\": lr},\n        {\"params\": attention_params, \"lr\": lr * (lr_multiplier ** 0.5)},\n        {\"params\": head_params, \"lr\": lr * lr_multiplier}\n    ], weight_decay=weight_decay)",
   "metadata": {
    "trusted": true
   },
   "outputs": [],
   "execution_count": null
  },
  {
   "cell_type": "code",
   "source": [
    "def train_with_coslr(model, data_yaml, config_path, pretrained_weights, epochs=100):\n",
    "    \"\"\"分阶段训练（带余弦退火调度）\"\"\"\n",
    "    # 阶段1：冻结骨干\n",
    "    print(\"🚀 阶段1：冻结骨干，训练注意力+检测头\")\n",
    "    for name, param in model.model.named_parameters():\n",
    "        if \"backbone\" in name and \"SEAttention\" not in name:\n",
    "            param.requires_grad = False\n",
    "    \n",
    "    # 阶段1训练\n",
    "    model.train(\n",
    "        cfg=config_path,\n",
    "        data=data_yaml,\n",
    "        epochs=1,\n",
    "        lr0=1e-3,\n",
    "        name=\"SEAtt_train/phase1\"\n",
    "    )\n",
    "    \n",
    "    # 阶段2：解冻骨干\n",
    "    print(\"🔍 阶段2：解冻骨干，完整训练\")\n",
    "    for param in model.model.parameters():\n",
    "        param.requires_grad = True\n",
    "    \n",
    "    # 配置优化器\n",
    "    optimizer = configure_optimizer(\n",
    "        model.model,\n",
    "        lr=1e-4,  # 固定初始学习率\n",
    "        lr_multiplier=10,\n",
    "        weight_decay=0.05\n",
    "    )\n",
    "    \n",
    "    # 配置调度器\n",
    "    scheduler = optim.lr_scheduler.CosineAnnealingWarmRestarts(\n",
    "        optimizer,\n",
    "        T_0=7,\n",
    "        T_mult=2,\n",
    "        eta_min=1e-6\n",
    "    )\n",
    "    \n",
    "    # 关键修改：创建自定义Trainer类\n",
    "    class CustomTrainer(model.trainer.__class__):\n",
    "        def __init__(self, *args, **kwargs):\n",
    "            super().__init__(*args, **kwargs)\n",
    "            self.scheduler = None\n",
    "        \n",
    "        def set_optimizer(self, optimizer, scheduler):\n",
    "            self.optimizer = optimizer\n",
    "            self.scheduler = scheduler\n",
    "        \n",
    "        def on_train_epoch_end(self):\n",
    "            if self.scheduler:\n",
    "                self.scheduler.step()\n",
    "            super().on_train_epoch_end()\n",
    "    \n",
    "    # 阶段2训练\n",
    "    print(\"🚀 阶段2：使用固定学习率策略训练\")\n",
    "    \n",
    "    # 获取默认训练参数\n",
    "    args = {\n",
    "        \"cfg\": config_path,\n",
    "        \"data\": data_yaml,\n",
    "        \"epochs\": epochs-5,\n",
    "        \"name\": \"SEAtt_train/phase2\",\n",
    "        \"optimizer\": \"AdamW\"  # 必须指定一个有效名称\n",
    "    }\n",
    "    \n",
    "    # 创建自定义Trainer实例\n",
    "    trainer = CustomTrainer(overrides=args)\n",
    "    trainer.set_optimizer(optimizer, scheduler)\n",
    "    trainer.model = model.model\n",
    "    model.trainer = trainer\n",
    "    \n",
    "    # 开始训练\n",
    "    model.trainer.train()\n",
    "\n",
    "    "
   ],
   "metadata": {
    "trusted": true
   },
   "outputs": [],
   "execution_count": null
  },
  {
   "cell_type": "code",
   "source": [
    "\n",
    "autosplit('data/datasets/waste_classification/images', weights=(0.99, 0.01, 0),\n",
    "              annotated_only=True)\n",
    "\n",
    "# 配置参数\n",
    "config_path = 'cfg/train.yaml'  # 训练配置文件路径\n",
    "data_yaml = 'data/datasets/waste_classification/waste_classification.yaml'  # 数据配置文件路径\n",
    "pretrained_weights = 'weights/yolov8n_pretrained.pt'  # 预训练权重路径\n",
    "\n",
    "# 加载模型\n",
    "model = ultralytics.YOLO(\"cfg/models/v8/yolov8-se-att.yaml\").load(pretrained_weights)\n",
    "\n",
    "# 开始训练\n",
    "train_with_coslr(\n",
    "        model=model,\n",
    "        data_yaml=data_yaml,\n",
    "        config_path=config_path,\n",
    "        pretrained_weights=pretrained_weights,\n",
    "        epochs=100\n",
    "    )"
   ],
   "metadata": {
    "trusted": true,
    "_kg_hide-output": true
   },
   "outputs": [],
   "execution_count": null
  },
  {
   "cell_type": "markdown",
   "source": "阶段\t训练策略\t学习率设置\t目的\n阶段 1\t冻结骨干\t仅优化注意力 + 检测头\t让新模块快速适应任务\n阶段 2\t解冻骨干\t分层学习率（骨干低，注意力中，检测头高）\t微调整个模型\n监控\t检查梯度\t调整学习率乘数\t确保注意力模块有效学习\n",
   "metadata": {}
  },
  {
   "cell_type": "code",
   "source": "# !git pull https://github.com/HEIHEILIN1/ws_model.git",
   "metadata": {
    "trusted": true
   },
   "outputs": [],
   "execution_count": null
  }
 ]
}
